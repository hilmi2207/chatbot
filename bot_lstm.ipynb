{
  "nbformat": 4,
  "nbformat_minor": 0,
  "metadata": {
    "colab": {
      "name": "bot_lstm.ipynb",
      "provenance": [],
      "authorship_tag": "ABX9TyPJ7c4nN3y+AVJGsLeYlZ0+",
      "include_colab_link": true
    },
    "kernelspec": {
      "name": "python3",
      "display_name": "Python 3"
    },
    "language_info": {
      "name": "python"
    },
    "accelerator": "GPU"
  },
  "cells": [
    {
      "cell_type": "markdown",
      "metadata": {
        "id": "view-in-github",
        "colab_type": "text"
      },
      "source": [
        "<a href=\"https://colab.research.google.com/github/hilmi2207/chatbot/blob/main/bot_lstm.ipynb\" target=\"_parent\"><img src=\"https://colab.research.google.com/assets/colab-badge.svg\" alt=\"Open In Colab\"/></a>"
      ]
    },
    {
      "cell_type": "code",
      "metadata": {
        "id": "NYU2sWDWg1VG"
      },
      "source": [
        "import tensorflow as tf\n",
        "import numpy as np\n",
        "from tensorflow.keras.models import Model\n",
        "from tensorflow.keras.layers import Input, Embedding, Dense, LSTM, Masking\n",
        "from tensorflow.keras.preprocessing.text import tokenizer_from_json\n",
        "import json\n",
        "import time\n",
        "import re"
      ],
      "execution_count": null,
      "outputs": []
    },
    {
      "cell_type": "code",
      "metadata": {
        "id": "JmH8_4omiaje"
      },
      "source": [
        "# import preprocessed data\n",
        "\n",
        "with open('questions.json', 'r') as f:\n",
        "    json_data = json.load(f)\n",
        "    question_corpus = tokenizer_from_json(json_data)\n",
        "    f.close()\n",
        "\n",
        "with open('answers.json', 'r') as f:\n",
        "    json_data = json.load(f)\n",
        "    answer_corpus = tokenizer_from_json(json_data)\n",
        "    f.close()\n",
        "\n",
        "npzfile = np.load('data (1).npz')"
      ],
      "execution_count": null,
      "outputs": []
    },
    {
      "cell_type": "code",
      "metadata": {
        "id": "3KS8fe4WnIuk"
      },
      "source": [
        "# some unknown reason make the corpus contain all words and labels in raw data rather than a vocabulary with limited size\n",
        "# so we have to build the dict manually\n",
        "q_word2ind={e:i for e,i in question_corpus.word_index.items() if i <= 2500}\n",
        "q_ind2word={e:i for i,e in q_word2ind.items()}\n",
        "a_word2ind={e:i for e,i in answer_corpus.word_index.items() if i <= 2500}\n",
        "a_ind2word={e:i for i,e in a_word2ind.items()}"
      ],
      "execution_count": null,
      "outputs": []
    },
    {
      "cell_type": "code",
      "metadata": {
        "id": "f0d1n1btiuqx"
      },
      "source": [
        "# define encoder\n",
        "# notice that the encoder at here is totally same with the encoder in training model\n",
        "def create_encoder(inputdim, embeddingsize, inputlen, n_units):\n",
        "\n",
        "    encoder_input = Input((inputlen,))\n",
        "    encoder_embed = Embedding(inputdim+1, embeddingsize)(encoder_input)\n",
        "    encoder_mask = Masking()(encoder_embed)\n",
        "    encoder = LSTM(n_units, return_state = True)\n",
        "    _, encoder_h, encoder_c = encoder(encoder_mask)\n",
        "    \n",
        "    encoder=Model(encoder_input, [encoder_h,encoder_c])\n",
        "    \n",
        "    return encoder"
      ],
      "execution_count": null,
      "outputs": []
    },
    {
      "cell_type": "code",
      "metadata": {
        "id": "GRVCNAYsiyEC"
      },
      "source": [
        "# define decoder\n",
        "# notice that we use inference model at here, which is a little different with the decoder in training model\n",
        "def create_decoder(inputdim, embeddingsize, n_units):\n",
        "    # the size of input at here is 1 because we want to predict the answer step by step, each time only input 1 word\n",
        "    decoder_input = Input((1,))\n",
        "    initial_stateh = Input((n_units,))\n",
        "    initial_statec = Input((n_units,))\n",
        "    encoder_state = [initial_stateh,initial_statec]\n",
        "    decoder_embed = Embedding(inputdim+1, embeddingsize,input_length = 1)(decoder_input)\n",
        "    decoder_mask = Masking()(decoder_embed)\n",
        "    decoder = LSTM(n_units, return_sequences = True, return_state = True)\n",
        "    # in training model, we dont use the state h & c. but in inference model, we do\n",
        "    decoder_output, decoder_h, decoder_c = decoder(decoder_mask,initial_state = encoder_state)\n",
        "    decoder_dense = Dense(inputdim, activation = 'softmax')\n",
        "    decoder_output_ = decoder_dense(decoder_output)\n",
        "    \n",
        "    decoder=Model([decoder_input,initial_stateh,initial_statec],[decoder_output_,decoder_h,decoder_c])\n",
        "    \n",
        "    return decoder"
      ],
      "execution_count": null,
      "outputs": []
    },
    {
      "cell_type": "code",
      "metadata": {
        "id": "GTAQgL73i00K"
      },
      "source": [
        "# define hyperparameters\n",
        "\n",
        "BatchSize = 32\n",
        "N_Unit = 256\n",
        "EmbeddingSize = 128\n",
        "VocabSize = len(question_corpus.word_index)+1\n",
        "# theoretically, vocabulary size should be len(question_corpus.word_index)+1. \n",
        "# however, seems like the 'num_words' didnt filter the tokenizer. so we assign the number manually\n",
        "QuestionLen = npzfile['arr_0'].shape[1]\n",
        "AnswerLen = npzfile['arr_1'].shape[1]"
      ],
      "execution_count": null,
      "outputs": []
    },
    {
      "cell_type": "code",
      "metadata": {
        "id": "oaJHDHMmi4DV"
      },
      "source": [
        "encoder=create_encoder(VocabSize,EmbeddingSize,QuestionLen,N_Unit)"
      ],
      "execution_count": null,
      "outputs": []
    },
    {
      "cell_type": "code",
      "metadata": {
        "id": "Bcbnkvnsi6Ei"
      },
      "source": [
        "encoder.load_weights('./lstm_enc_test.h5')"
      ],
      "execution_count": null,
      "outputs": []
    },
    {
      "cell_type": "code",
      "metadata": {
        "id": "mU-hZiyxi7yO"
      },
      "source": [
        "decoder=create_decoder(VocabSize,EmbeddingSize,AnswerLen,N_Unit)"
      ],
      "execution_count": null,
      "outputs": []
    },
    {
      "cell_type": "code",
      "metadata": {
        "id": "kaXjWvSHi--M"
      },
      "source": [
        "decoder=create_decoder(VocabSize,EmbeddingSize,N_Unit)"
      ],
      "execution_count": null,
      "outputs": []
    },
    {
      "cell_type": "code",
      "metadata": {
        "id": "PZ7gL_25jAhv"
      },
      "source": [
        "decoder.load_weights('lstm_dec_test.h5')"
      ],
      "execution_count": null,
      "outputs": []
    },
    {
      "cell_type": "code",
      "metadata": {
        "id": "iOkS2HDkjGOn"
      },
      "source": [
        "def clean_text(text):\n",
        "\n",
        "    # remove unnecessary characters in sentences\n",
        "    \n",
        "    text = text.lower().strip()\n",
        "    text = re.sub(r\"i'm\", \"i am\", text)\n",
        "    text = re.sub(r\"he's\", \"he is\", text)\n",
        "    text = re.sub(r\"she's\", \"she is\", text)\n",
        "    text = re.sub(r\"it's\", \"it is\", text)\n",
        "    text = re.sub(r\"that's\", \"that is\", text)\n",
        "    text = re.sub(r\"what's\", \"what is\", text)\n",
        "    text = re.sub(r\"where's\", \"where is\", text)\n",
        "    text = re.sub(r\"there's\", \"there is\", text)\n",
        "    text = re.sub(r\"how's\", \"how is\", text)\n",
        "    text = re.sub(r\"\\'ll\", \" will\", text)\n",
        "    text = re.sub(r\"\\'ve\", \" have\", text)\n",
        "    text = re.sub(r\"\\'re\", \" are\", text)\n",
        "    text = re.sub(r\"\\'d\", \" would\", text)\n",
        "    text = re.sub(r\"\\'re\", \" are\", text)\n",
        "    text = re.sub(r\"won't\", \"will not\", text)\n",
        "    text = re.sub(r\"can't\", \"cannot\", text)\n",
        "    text = re.sub(r\"n't\", \" not\", text)\n",
        "    text = re.sub(r\"n'\", \"ng\", text)\n",
        "    text = re.sub(r\"'bout\", \"about\", text)\n",
        "    text = re.sub(r\"'til\", \"until\", text)\n",
        "    text = re.sub(r'[\" \"]+', \" \", text)\n",
        "    text = re.sub(r\"[-()\\\"#/@;:<>{}`+=~|.!?,]\", \"\", text)\n",
        "    \n",
        "    return text"
      ],
      "execution_count": null,
      "outputs": []
    },
    {
      "cell_type": "code",
      "metadata": {
        "id": "YKX7lqKtjJnj"
      },
      "source": [
        "def evaluate(sentence):\n",
        "    \n",
        "    sentence=clean_text(sentence) # clean the input text\n",
        "    encoder_inputs=[]\n",
        "    # convert the input text to index sequence and use unk replace the word not in vocabulary\n",
        "    for word in sentence.split():\n",
        "        if word in q_word2ind:\n",
        "            encoder_inputs.append(q_word2ind[word])\n",
        "        elif word not in q_word2ind:\n",
        "            encoder_inputs.append(q_word2ind['unk'])\n",
        "\n",
        "    encoder_inputs=tf.keras.preprocessing.sequence.pad_sequences([encoder_inputs],maxlen=QuestionLen,padding='post')\n",
        "    encoder_inputs = tf.convert_to_tensor(encoder_inputs)\n",
        "    encoder_h,encoder_c=encoder(encoder_inputs)\n",
        "    \n",
        "    # initialize the decoder input\n",
        "    decoder_inputs=tf.expand_dims([a_word2ind['bos']], 0)\n",
        "    hidden_h,hidden_c=encoder_h,encoder_c\n",
        "    \n",
        "    result=''\n",
        "    for t in range(AnswerLen):\n",
        "        pred,state_h,state_c=decoder([decoder_inputs,hidden_h,hidden_c])\n",
        "        pred=np.squeeze(pred)\n",
        "        pred_ind=tf.math.argmax(pred).numpy()+1\n",
        " \n",
        "        if a_ind2word[pred_ind]=='eos': # once we get the eos symbol, stop the loop\n",
        "            return result\n",
        "        result+=a_ind2word[pred_ind] + ' '\n",
        "        decoder_inputs=tf.expand_dims([pred_ind],0) # pass the predict index and state vectors to the next input       \n",
        "        hidden_h,hidden_c=state_h,state_c\n",
        "    return result"
      ],
      "execution_count": null,
      "outputs": []
    },
    {
      "cell_type": "code",
      "metadata": {
        "colab": {
          "base_uri": "https://localhost:8080/"
        },
        "id": "CSqmhMakjLgc",
        "outputId": "9fbdf110-fcab-49cf-c1bd-0b82947fd8cb"
      },
      "source": [
        "while True:\n",
        "    inputs = input('User :> ')\n",
        "    if inputs == 'quit':\n",
        "        break\n",
        "\n",
        "    result = evaluate(inputs)\n",
        "\n",
        "    print('Bot :> ' + result)"
      ],
      "execution_count": null,
      "outputs": [
        {
          "output_type": "stream",
          "text": [
            "Bot :> aku ada \n",
            "Bot :> aku ada \n",
            "Bot :> aku ada \n",
            "Bot :> aku ada \n",
            "Bot :> aku ada \n",
            "User :> quit\n"
          ],
          "name": "stdout"
        }
      ]
    }
  ]
}